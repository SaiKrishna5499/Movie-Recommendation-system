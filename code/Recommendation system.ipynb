{
 "cells": [
  {
   "cell_type": "code",
   "execution_count": 37,
   "metadata": {},
   "outputs": [],
   "source": [
    "import re\n",
    "from difflib import SequenceMatcher  #used to copare two sequences\n",
    "\n",
    "import numpy as np \n",
    "import pandas as pd\n",
    "import matplotlib.pyplot as plt\n",
    "\n",
    "from scipy.sparse import csr_matrix  #Compressed Sparse Row. The sparse matrix is represente\n",
    "#using three one-dimensional arrays for the non-zero values, the extents of the rows, and the column indexes.\n",
    "\n",
    "from sklearn.neighbors import NearestNeighbors"
   ]
  },
  {
   "cell_type": "code",
   "execution_count": 38,
   "metadata": {},
   "outputs": [],
   "source": [
    "movies = pd.read_csv('data/movies.csv')\n",
    "movies = movies.drop(['genres'],axis='columns')\n"
   ]
  },
  {
   "cell_type": "code",
   "execution_count": 39,
   "metadata": {},
   "outputs": [],
   "source": [
    "ratings = pd.read_csv('data/ratings.csv')\n",
    "ratings = ratings.drop(['timestamp'],axis='columns')"
   ]
  },
  {
   "cell_type": "code",
   "execution_count": 40,
   "metadata": {},
   "outputs": [
    {
     "data": {
      "text/html": [
       "<div>\n",
       "<style scoped>\n",
       "    .dataframe tbody tr th:only-of-type {\n",
       "        vertical-align: middle;\n",
       "    }\n",
       "\n",
       "    .dataframe tbody tr th {\n",
       "        vertical-align: top;\n",
       "    }\n",
       "\n",
       "    .dataframe thead th {\n",
       "        text-align: right;\n",
       "    }\n",
       "</style>\n",
       "<table border=\"1\" class=\"dataframe\">\n",
       "  <thead>\n",
       "    <tr style=\"text-align: right;\">\n",
       "      <th></th>\n",
       "      <th>movieId</th>\n",
       "      <th>title</th>\n",
       "    </tr>\n",
       "  </thead>\n",
       "  <tbody>\n",
       "    <tr>\n",
       "      <th>0</th>\n",
       "      <td>1</td>\n",
       "      <td>Toy Story (1995)</td>\n",
       "    </tr>\n",
       "    <tr>\n",
       "      <th>1</th>\n",
       "      <td>2</td>\n",
       "      <td>Jumanji (1995)</td>\n",
       "    </tr>\n",
       "    <tr>\n",
       "      <th>2</th>\n",
       "      <td>3</td>\n",
       "      <td>Grumpier Old Men (1995)</td>\n",
       "    </tr>\n",
       "    <tr>\n",
       "      <th>3</th>\n",
       "      <td>4</td>\n",
       "      <td>Waiting to Exhale (1995)</td>\n",
       "    </tr>\n",
       "    <tr>\n",
       "      <th>4</th>\n",
       "      <td>5</td>\n",
       "      <td>Father of the Bride Part II (1995)</td>\n",
       "    </tr>\n",
       "  </tbody>\n",
       "</table>\n",
       "</div>"
      ],
      "text/plain": [
       "   movieId                               title\n",
       "0        1                    Toy Story (1995)\n",
       "1        2                      Jumanji (1995)\n",
       "2        3             Grumpier Old Men (1995)\n",
       "3        4            Waiting to Exhale (1995)\n",
       "4        5  Father of the Bride Part II (1995)"
      ]
     },
     "execution_count": 40,
     "metadata": {},
     "output_type": "execute_result"
    }
   ],
   "source": [
    "movies.head() #usd to show tble"
   ]
  },
  {
   "cell_type": "code",
   "execution_count": 41,
   "metadata": {},
   "outputs": [
    {
     "data": {
      "text/html": [
       "<div>\n",
       "<style scoped>\n",
       "    .dataframe tbody tr th:only-of-type {\n",
       "        vertical-align: middle;\n",
       "    }\n",
       "\n",
       "    .dataframe tbody tr th {\n",
       "        vertical-align: top;\n",
       "    }\n",
       "\n",
       "    .dataframe thead th {\n",
       "        text-align: right;\n",
       "    }\n",
       "</style>\n",
       "<table border=\"1\" class=\"dataframe\">\n",
       "  <thead>\n",
       "    <tr style=\"text-align: right;\">\n",
       "      <th></th>\n",
       "      <th>userId</th>\n",
       "      <th>movieId</th>\n",
       "      <th>rating</th>\n",
       "    </tr>\n",
       "  </thead>\n",
       "  <tbody>\n",
       "    <tr>\n",
       "      <th>0</th>\n",
       "      <td>1</td>\n",
       "      <td>1</td>\n",
       "      <td>4.0</td>\n",
       "    </tr>\n",
       "    <tr>\n",
       "      <th>1</th>\n",
       "      <td>1</td>\n",
       "      <td>3</td>\n",
       "      <td>4.0</td>\n",
       "    </tr>\n",
       "    <tr>\n",
       "      <th>2</th>\n",
       "      <td>1</td>\n",
       "      <td>6</td>\n",
       "      <td>4.0</td>\n",
       "    </tr>\n",
       "    <tr>\n",
       "      <th>3</th>\n",
       "      <td>1</td>\n",
       "      <td>47</td>\n",
       "      <td>5.0</td>\n",
       "    </tr>\n",
       "    <tr>\n",
       "      <th>4</th>\n",
       "      <td>1</td>\n",
       "      <td>50</td>\n",
       "      <td>5.0</td>\n",
       "    </tr>\n",
       "  </tbody>\n",
       "</table>\n",
       "</div>"
      ],
      "text/plain": [
       "   userId  movieId  rating\n",
       "0       1        1     4.0\n",
       "1       1        3     4.0\n",
       "2       1        6     4.0\n",
       "3       1       47     5.0\n",
       "4       1       50     5.0"
      ]
     },
     "execution_count": 41,
     "metadata": {},
     "output_type": "execute_result"
    }
   ],
   "source": [
    "ratings.head()"
   ]
  },
  {
   "cell_type": "code",
   "execution_count": 42,
   "metadata": {},
   "outputs": [
    {
     "data": {
      "text/plain": [
       "array([0.5, 1. , 1.5, 2. , 2.5, 3. , 3.5, 4. , 4.5, 5. ])"
      ]
     },
     "execution_count": 42,
     "metadata": {},
     "output_type": "execute_result"
    }
   ],
   "source": [
    "ratings['rating'].sort_values().unique() #sorts ratngs clms which have unique values"
   ]
  },
  {
   "cell_type": "code",
   "execution_count": 43,
   "metadata": {},
   "outputs": [
    {
     "data": {
      "text/plain": [
       "9742"
      ]
     },
     "execution_count": 43,
     "metadata": {},
     "output_type": "execute_result"
    }
   ],
   "source": [
    "movies.values.shape[0]  #rtens nof rows of data "
   ]
  },
  {
   "cell_type": "code",
   "execution_count": 44,
   "metadata": {},
   "outputs": [
    {
     "data": {
      "text/plain": [
       "100836"
      ]
     },
     "execution_count": 44,
     "metadata": {},
     "output_type": "execute_result"
    }
   ],
   "source": [
    "ratings.values.shape[0]"
   ]
  },
  {
   "cell_type": "code",
   "execution_count": 45,
   "metadata": {},
   "outputs": [
    {
     "data": {
      "text/plain": [
       "610"
      ]
     },
     "execution_count": 45,
     "metadata": {},
     "output_type": "execute_result"
    }
   ],
   "source": [
    "ratings['userId'].nunique() #return n unique vakues"
   ]
  },
  {
   "cell_type": "code",
   "execution_count": 46,
   "metadata": {},
   "outputs": [],
   "source": [
    "popular_movies_thresh =25\n",
    "active_users_thresh = 100\n"
   ]
  },
  {
   "cell_type": "code",
   "execution_count": 47,
   "metadata": {},
   "outputs": [
    {
     "data": {
      "text/plain": [
       "<matplotlib.collections.PolyCollection at 0x133da0410>"
      ]
     },
     "execution_count": 47,
     "metadata": {},
     "output_type": "execute_result"
    },
    {
     "data": {
      "image/png": "[encoded data removed]",
      "text/plain": [
       "<Figure size 1500x500 with 1 Axes>"
      ]
     },
     "metadata": {},
     "output_type": "display_data"
    }
   ],
   "source": [
    "movies_count = pd.DataFrame(ratings.groupby('movieId').size().sort_values(ascending =False), columns=['count'])\n",
    "divider=len(movies_count.query('count >=@popular_movies_thresh'))\n",
    "fig, (ax) =plt.subplots(1,1,figsize=(15,5))\n",
    "plt.plot(np.arange(len(movies_count)),movies_count['count'],color='red')\n",
    "plt.xlabel('movies')\n",
    "plt.ylabel('number of ratings')\n",
    "\n",
    "ax.fill_between(np.arange(0,divider),\n",
    "                0,\n",
    "                movies_count['count'][:divider],\n",
    "                color='orange', \n",
    "                alpha=0.5)\n",
    "\n",
    "ax.fill_between(np.arange(divider,len(movies_count)),\n",
    "                0,\n",
    "                movies_count['count'][divider:],\n",
    "                color='blue', \n",
    "                alpha=0.5)\n"
   ]
  },
  {
   "cell_type": "code",
   "execution_count": 48,
   "metadata": {},
   "outputs": [],
   "source": [
    "#discarding the unpopular movies \n",
    "\n",
    "popular_movies_indices= movies_count.query('count >=@popular_movies_thresh').index #stores all the index of movies over the threshold\n",
    "popular_ratings =ratings[ratings['movieId'].isin(popular_movies_indices)] # using indeces of popular movies we select rating using isin function"
   ]
  },
  {
   "cell_type": "code",
   "execution_count": 49,
   "metadata": {},
   "outputs": [
    {
     "data": {
      "text/plain": [
       "100836"
      ]
     },
     "execution_count": 49,
     "metadata": {},
     "output_type": "execute_result"
    }
   ],
   "source": [
    "ratings.shape[0]"
   ]
  },
  {
   "cell_type": "code",
   "execution_count": 50,
   "metadata": {},
   "outputs": [
    {
     "data": {
      "text/plain": [
       "62518"
      ]
     },
     "execution_count": 50,
     "metadata": {},
     "output_type": "execute_result"
    }
   ],
   "source": [
    "popular_ratings.shape[0]"
   ]
  },
  {
   "cell_type": "code",
   "execution_count": 51,
   "metadata": {},
   "outputs": [
    {
     "data": {
      "text/plain": [
       "9724"
      ]
     },
     "execution_count": 51,
     "metadata": {},
     "output_type": "execute_result"
    }
   ],
   "source": [
    "# no.of movie before removing unpopular movie\n",
    "ratings.groupby('movieId').count().shape[0]\n",
    "\n"
   ]
  },
  {
   "cell_type": "code",
   "execution_count": 52,
   "metadata": {},
   "outputs": [
    {
     "data": {
      "text/plain": [
       "1050"
      ]
     },
     "execution_count": 52,
     "metadata": {},
     "output_type": "execute_result"
    }
   ],
   "source": [
    "#no.of movies after dropping unpopular movies\n",
    "popular_ratings.groupby('movieId').count().shape[0]"
   ]
  },
  {
   "cell_type": "code",
   "execution_count": 53,
   "metadata": {},
   "outputs": [
    {
     "data": {
      "text/plain": [
       "<matplotlib.collections.PolyCollection at 0x133e1e690>"
      ]
     },
     "execution_count": 53,
     "metadata": {},
     "output_type": "execute_result"
    },
    {
     "data": {
      "image/png": "[encoded data removed]",
      "text/plain": [
       "<Figure size 1500x500 with 1 Axes>"
      ]
     },
     "metadata": {},
     "output_type": "display_data"
    }
   ],
   "source": [
    "#visualizing longtail for active users\n",
    "#after plotting this graph we get the indices of all the users\n",
    "users_count= pd.DataFrame(popular_ratings.groupby('userId').size().sort_values(ascending=False) ,columns=['count'])\n",
    "divider= len(users_count.query('count >=@active_users_thresh'))\n",
    "\n",
    "fig, (ax) =plt.subplots(1,1,figsize=(15,5))\n",
    "plt.plot(np.arange(len(users_count)),users_count['count'],color='red')\n",
    "plt.xlabel('users')\n",
    "plt.ylabel('number of ratings given')\n",
    "\n",
    "ax.fill_between(np.arange(divider),\n",
    "                0,\n",
    "                users_count['count'][:divider],\n",
    "                color='orange', \n",
    "                alpha=0.5)\n",
    "\n",
    "ax.fill_between(np.arange(divider,len(users_count)),\n",
    "                0,\n",
    "                users_count['count'][divider:],\n",
    "                color='blue', \n",
    "                alpha=0.5)\n"
   ]
  },
  {
   "cell_type": "code",
   "execution_count": 54,
   "metadata": {},
   "outputs": [],
   "source": [
    "#removing non active users from the data frame\n",
    "#we select active users from data frame using isin function\n",
    "\n",
    "active_users_indices = users_count.query('count >=@active_users_thresh').index\n",
    "active_users_ratings= popular_ratings[popular_ratings['userId'].isin(active_users_indices)]\n"
   ]
  },
  {
   "cell_type": "code",
   "execution_count": 55,
   "metadata": {},
   "outputs": [
    {
     "data": {
      "text/plain": [
       "62518"
      ]
     },
     "execution_count": 55,
     "metadata": {},
     "output_type": "execute_result"
    }
   ],
   "source": [
    "#no of rows in ratings data after removing unpopular movies \n",
    "popular_ratings.shape[0]"
   ]
  },
  {
   "cell_type": "code",
   "execution_count": 56,
   "metadata": {},
   "outputs": [
    {
     "data": {
      "text/plain": [
       "44588"
      ]
     },
     "execution_count": 56,
     "metadata": {},
     "output_type": "execute_result"
    }
   ],
   "source": [
    "#no of rows in ratings data after removing unpopularr and inactive users\n",
    "\n",
    "active_users_ratings.shape[0]"
   ]
  },
  {
   "cell_type": "code",
   "execution_count": 57,
   "metadata": {},
   "outputs": [
    {
     "data": {
      "text/plain": [
       "610"
      ]
     },
     "execution_count": 57,
     "metadata": {},
     "output_type": "execute_result"
    }
   ],
   "source": [
    "#number of users in data before removing inactive users\n",
    "popular_ratings.groupby('userId').count().shape[0]"
   ]
  },
  {
   "cell_type": "code",
   "execution_count": 58,
   "metadata": {},
   "outputs": [
    {
     "data": {
      "text/plain": [
       "188"
      ]
     },
     "execution_count": 58,
     "metadata": {},
     "output_type": "execute_result"
    }
   ],
   "source": [
    "##number of users in data after removing inactive users\n",
    "active_users_ratings.groupby('userId').count().shape[0]"
   ]
  },
  {
   "cell_type": "code",
   "execution_count": 59,
   "metadata": {},
   "outputs": [],
   "source": [
    "#creating pivot able and sparse matrix\n",
    "#crating pivot table with rows cotaining movieid and coloumns containning userid\n",
    "#the cell containg rating given y the user to a movie\n",
    "#fiilna fills missing data with o's\n",
    "\n",
    "\n",
    "pivot_table =active_users_ratings.pivot(index='movieId' ,columns='userId' ,values='rating').fillna(0)"
   ]
  },
  {
   "cell_type": "code",
   "execution_count": 60,
   "metadata": {},
   "outputs": [
    {
     "data": {
      "text/plain": [
       "1050"
      ]
     },
     "execution_count": 60,
     "metadata": {},
     "output_type": "execute_result"
    }
   ],
   "source": [
    "#no of movie in pivot table \n",
    "#retuns no of rows in the table\n",
    "pivot_table.index.shape[0]"
   ]
  },
  {
   "cell_type": "code",
   "execution_count": 61,
   "metadata": {},
   "outputs": [
    {
     "data": {
      "text/plain": [
       "188"
      ]
     },
     "execution_count": 61,
     "metadata": {},
     "output_type": "execute_result"
    }
   ],
   "source": [
    "#no of users in ivot table\n",
    "\n",
    "pivot_table.columns.shape[0]"
   ]
  },
  {
   "cell_type": "code",
   "execution_count": 62,
   "metadata": {},
   "outputs": [
    {
     "data": {
      "text/html": [
       "<div>\n",
       "<style scoped>\n",
       "    .dataframe tbody tr th:only-of-type {\n",
       "        vertical-align: middle;\n",
       "    }\n",
       "\n",
       "    .dataframe tbody tr th {\n",
       "        vertical-align: top;\n",
       "    }\n",
       "\n",
       "    .dataframe thead th {\n",
       "        text-align: right;\n",
       "    }\n",
       "</style>\n",
       "<table border=\"1\" class=\"dataframe\">\n",
       "  <thead>\n",
       "    <tr style=\"text-align: right;\">\n",
       "      <th>userId</th>\n",
       "      <th>1</th>\n",
       "      <th>4</th>\n",
       "      <th>6</th>\n",
       "      <th>7</th>\n",
       "      <th>15</th>\n",
       "      <th>18</th>\n",
       "      <th>19</th>\n",
       "      <th>20</th>\n",
       "      <th>21</th>\n",
       "      <th>22</th>\n",
       "      <th>...</th>\n",
       "      <th>597</th>\n",
       "      <th>599</th>\n",
       "      <th>600</th>\n",
       "      <th>602</th>\n",
       "      <th>603</th>\n",
       "      <th>605</th>\n",
       "      <th>606</th>\n",
       "      <th>607</th>\n",
       "      <th>608</th>\n",
       "      <th>610</th>\n",
       "    </tr>\n",
       "    <tr>\n",
       "      <th>movieId</th>\n",
       "      <th></th>\n",
       "      <th></th>\n",
       "      <th></th>\n",
       "      <th></th>\n",
       "      <th></th>\n",
       "      <th></th>\n",
       "      <th></th>\n",
       "      <th></th>\n",
       "      <th></th>\n",
       "      <th></th>\n",
       "      <th></th>\n",
       "      <th></th>\n",
       "      <th></th>\n",
       "      <th></th>\n",
       "      <th></th>\n",
       "      <th></th>\n",
       "      <th></th>\n",
       "      <th></th>\n",
       "      <th></th>\n",
       "      <th></th>\n",
       "      <th></th>\n",
       "    </tr>\n",
       "  </thead>\n",
       "  <tbody>\n",
       "    <tr>\n",
       "      <th>1</th>\n",
       "      <td>4.0</td>\n",
       "      <td>0.0</td>\n",
       "      <td>0.0</td>\n",
       "      <td>4.5</td>\n",
       "      <td>2.5</td>\n",
       "      <td>3.5</td>\n",
       "      <td>4.0</td>\n",
       "      <td>0.0</td>\n",
       "      <td>3.5</td>\n",
       "      <td>0.0</td>\n",
       "      <td>...</td>\n",
       "      <td>4.0</td>\n",
       "      <td>3.0</td>\n",
       "      <td>2.5</td>\n",
       "      <td>0.0</td>\n",
       "      <td>4.0</td>\n",
       "      <td>4.0</td>\n",
       "      <td>2.5</td>\n",
       "      <td>4.0</td>\n",
       "      <td>2.5</td>\n",
       "      <td>5.0</td>\n",
       "    </tr>\n",
       "    <tr>\n",
       "      <th>2</th>\n",
       "      <td>0.0</td>\n",
       "      <td>0.0</td>\n",
       "      <td>4.0</td>\n",
       "      <td>0.0</td>\n",
       "      <td>0.0</td>\n",
       "      <td>3.0</td>\n",
       "      <td>3.0</td>\n",
       "      <td>3.0</td>\n",
       "      <td>3.5</td>\n",
       "      <td>0.0</td>\n",
       "      <td>...</td>\n",
       "      <td>0.0</td>\n",
       "      <td>2.5</td>\n",
       "      <td>4.0</td>\n",
       "      <td>4.0</td>\n",
       "      <td>0.0</td>\n",
       "      <td>3.5</td>\n",
       "      <td>0.0</td>\n",
       "      <td>0.0</td>\n",
       "      <td>2.0</td>\n",
       "      <td>0.0</td>\n",
       "    </tr>\n",
       "    <tr>\n",
       "      <th>3</th>\n",
       "      <td>4.0</td>\n",
       "      <td>0.0</td>\n",
       "      <td>5.0</td>\n",
       "      <td>0.0</td>\n",
       "      <td>0.0</td>\n",
       "      <td>0.0</td>\n",
       "      <td>3.0</td>\n",
       "      <td>0.0</td>\n",
       "      <td>0.0</td>\n",
       "      <td>0.0</td>\n",
       "      <td>...</td>\n",
       "      <td>0.0</td>\n",
       "      <td>1.5</td>\n",
       "      <td>0.0</td>\n",
       "      <td>0.0</td>\n",
       "      <td>0.0</td>\n",
       "      <td>0.0</td>\n",
       "      <td>0.0</td>\n",
       "      <td>0.0</td>\n",
       "      <td>2.0</td>\n",
       "      <td>0.0</td>\n",
       "    </tr>\n",
       "    <tr>\n",
       "      <th>5</th>\n",
       "      <td>0.0</td>\n",
       "      <td>0.0</td>\n",
       "      <td>5.0</td>\n",
       "      <td>0.0</td>\n",
       "      <td>0.0</td>\n",
       "      <td>0.0</td>\n",
       "      <td>0.0</td>\n",
       "      <td>0.0</td>\n",
       "      <td>0.0</td>\n",
       "      <td>0.0</td>\n",
       "      <td>...</td>\n",
       "      <td>0.0</td>\n",
       "      <td>0.0</td>\n",
       "      <td>2.5</td>\n",
       "      <td>0.0</td>\n",
       "      <td>0.0</td>\n",
       "      <td>0.0</td>\n",
       "      <td>0.0</td>\n",
       "      <td>0.0</td>\n",
       "      <td>0.0</td>\n",
       "      <td>0.0</td>\n",
       "    </tr>\n",
       "    <tr>\n",
       "      <th>6</th>\n",
       "      <td>4.0</td>\n",
       "      <td>0.0</td>\n",
       "      <td>4.0</td>\n",
       "      <td>0.0</td>\n",
       "      <td>0.0</td>\n",
       "      <td>4.0</td>\n",
       "      <td>0.0</td>\n",
       "      <td>0.0</td>\n",
       "      <td>0.0</td>\n",
       "      <td>0.0</td>\n",
       "      <td>...</td>\n",
       "      <td>3.0</td>\n",
       "      <td>4.5</td>\n",
       "      <td>0.0</td>\n",
       "      <td>3.0</td>\n",
       "      <td>4.0</td>\n",
       "      <td>0.0</td>\n",
       "      <td>0.0</td>\n",
       "      <td>0.0</td>\n",
       "      <td>0.0</td>\n",
       "      <td>5.0</td>\n",
       "    </tr>\n",
       "  </tbody>\n",
       "</table>\n",
       "<p>5 rows × 188 columns</p>\n",
       "</div>"
      ],
      "text/plain": [
       "userId   1    4    6    7    15   18   19   20   21   22   ...  597  599  600  \\\n",
       "movieId                                                    ...                  \n",
       "1        4.0  0.0  0.0  4.5  2.5  3.5  4.0  0.0  3.5  0.0  ...  4.0  3.0  2.5   \n",
       "2        0.0  0.0  4.0  0.0  0.0  3.0  3.0  3.0  3.5  0.0  ...  0.0  2.5  4.0   \n",
       "3        4.0  0.0  5.0  0.0  0.0  0.0  3.0  0.0  0.0  0.0  ...  0.0  1.5  0.0   \n",
       "5        0.0  0.0  5.0  0.0  0.0  0.0  0.0  0.0  0.0  0.0  ...  0.0  0.0  2.5   \n",
       "6        4.0  0.0  4.0  0.0  0.0  4.0  0.0  0.0  0.0  0.0  ...  3.0  4.5  0.0   \n",
       "\n",
       "userId   602  603  605  606  607  608  610  \n",
       "movieId                                     \n",
       "1        0.0  4.0  4.0  2.5  4.0  2.5  5.0  \n",
       "2        4.0  0.0  3.5  0.0  0.0  2.0  0.0  \n",
       "3        0.0  0.0  0.0  0.0  0.0  2.0  0.0  \n",
       "5        0.0  0.0  0.0  0.0  0.0  0.0  0.0  \n",
       "6        3.0  4.0  0.0  0.0  0.0  0.0  5.0  \n",
       "\n",
       "[5 rows x 188 columns]"
      ]
     },
     "execution_count": 62,
     "metadata": {},
     "output_type": "execute_result"
    }
   ],
   "source": [
    "pivot_table.head()"
   ]
  },
  {
   "cell_type": "code",
   "execution_count": 63,
   "metadata": {},
   "outputs": [],
   "source": [
    "#this containg so many o's due to long tail\n",
    "#if we use this directly to knn it'll be slow\n",
    "#so we need to compress the table into sparse matrix using csr_matrix function \n",
    "#entir row is considered as feature\n",
    "\n",
    "sparse_matrix = csr_matrix(pivot_table.values)"
   ]
  },
  {
   "cell_type": "code",
   "execution_count": 64,
   "metadata": {},
   "outputs": [],
   "source": [
    "#mapping from movie id to movie title and vicecersa\n",
    "#we need titles and id's from movies data frame\n",
    "#we set index of movie dataframe to moveid so using loc function we can select any row by selcting movie id from pivot table\n",
    "\n",
    "\n",
    "pivot_table_movies = movies.set_index('movieId').loc[pivot_table.index]['title'].values\n",
    "title_to_id ={movie :i for i ,movie in enumerate(pivot_table_movies)}\n"
   ]
  },
  {
   "cell_type": "code",
   "execution_count": 65,
   "metadata": {},
   "outputs": [],
   "source": [
    "id_to_title ={v : k for k,v in title_to_id.items()}"
   ]
  },
  {
   "cell_type": "code",
   "execution_count": 66,
   "metadata": {},
   "outputs": [
    {
     "data": {
      "text/html": [
       "<style>#sk-container-id-2 {color: black;}#sk-container-id-2 pre{padding: 0;}#sk-container-id-2 div.sk-toggleable {background-color: white;}#sk-container-id-2 label.sk-toggleable__label {cursor: pointer;display: block;width: 100%;margin-bottom: 0;padding: 0.3em;box-sizing: border-box;text-align: center;}#sk-container-id-2 label.sk-toggleable__label-arrow:before {content: \"▸\";float: left;margin-right: 0.25em;color: #696969;}#sk-container-id-2 label.sk-toggleable__label-arrow:hover:before {color: black;}#sk-container-id-2 div.sk-estimator:hover label.sk-toggleable__label-arrow:before {color: black;}#sk-container-id-2 div.sk-toggleable__content {max-height: 0;max-width: 0;overflow: hidden;text-align: left;background-color: #f0f8ff;}#sk-container-id-2 div.sk-toggleable__content pre {margin: 0.2em;color: black;border-radius: 0.25em;background-color: #f0f8ff;}#sk-container-id-2 input.sk-toggleable__control:checked~div.sk-toggleable__content {max-height: 200px;max-width: 100%;overflow: auto;}#sk-container-id-2 input.sk-toggleable__control:checked~label.sk-toggleable__label-arrow:before {content: \"▾\";}#sk-container-id-2 div.sk-estimator input.sk-toggleable__control:checked~label.sk-toggleable__label {background-color: #d4ebff;}#sk-container-id-2 div.sk-label input.sk-toggleable__control:checked~label.sk-toggleable__label {background-color: #d4ebff;}#sk-container-id-2 input.sk-hidden--visually {border: 0;clip: rect(1px 1px 1px 1px);clip: rect(1px, 1px, 1px, 1px);height: 1px;margin: -1px;overflow: hidden;padding: 0;position: absolute;width: 1px;}#sk-container-id-2 div.sk-estimator {font-family: monospace;background-color: #f0f8ff;border: 1px dotted black;border-radius: 0.25em;box-sizing: border-box;margin-bottom: 0.5em;}#sk-container-id-2 div.sk-estimator:hover {background-color: #d4ebff;}#sk-container-id-2 div.sk-parallel-item::after {content: \"\";width: 100%;border-bottom: 1px solid gray;flex-grow: 1;}#sk-container-id-2 div.sk-label:hover label.sk-toggleable__label {background-color: #d4ebff;}#sk-container-id-2 div.sk-serial::before {content: \"\";position: absolute;border-left: 1px solid gray;box-sizing: border-box;top: 0;bottom: 0;left: 50%;z-index: 0;}#sk-container-id-2 div.sk-serial {display: flex;flex-direction: column;align-items: center;background-color: white;padding-right: 0.2em;padding-left: 0.2em;position: relative;}#sk-container-id-2 div.sk-item {position: relative;z-index: 1;}#sk-container-id-2 div.sk-parallel {display: flex;align-items: stretch;justify-content: center;background-color: white;position: relative;}#sk-container-id-2 div.sk-item::before, #sk-container-id-2 div.sk-parallel-item::before {content: \"\";position: absolute;border-left: 1px solid gray;box-sizing: border-box;top: 0;bottom: 0;left: 50%;z-index: -1;}#sk-container-id-2 div.sk-parallel-item {display: flex;flex-direction: column;z-index: 1;position: relative;background-color: white;}#sk-container-id-2 div.sk-parallel-item:first-child::after {align-self: flex-end;width: 50%;}#sk-container-id-2 div.sk-parallel-item:last-child::after {align-self: flex-start;width: 50%;}#sk-container-id-2 div.sk-parallel-item:only-child::after {width: 0;}#sk-container-id-2 div.sk-dashed-wrapped {border: 1px dashed gray;margin: 0 0.4em 0.5em 0.4em;box-sizing: border-box;padding-bottom: 0.4em;background-color: white;}#sk-container-id-2 div.sk-label label {font-family: monospace;font-weight: bold;display: inline-block;line-height: 1.2em;}#sk-container-id-2 div.sk-label-container {text-align: center;}#sk-container-id-2 div.sk-container {/* jupyter's `normalize.less` sets `[hidden] { display: none; }` but bootstrap.min.css set `[hidden] { display: none !important; }` so we also need the `!important` here to be able to override the default hidden behavior on the sphinx rendered scikit-learn.org. See: https://github.com/scikit-learn/scikit-learn/issues/21755 */display: inline-block !important;position: relative;}#sk-container-id-2 div.sk-text-repr-fallback {display: none;}</style><div id=\"sk-container-id-2\" class=\"sk-top-container\"><div class=\"sk-text-repr-fallback\"><pre>NearestNeighbors(algorithm=&#x27;brute&#x27;, metric=&#x27;cosine&#x27;)</pre><b>In a Jupyter environment, please rerun this cell to show the HTML representation or trust the notebook. <br />On GitHub, the HTML representation is unable to render, please try loading this page with nbviewer.org.</b></div><div class=\"sk-container\" hidden><div class=\"sk-item\"><div class=\"sk-estimator sk-toggleable\"><input class=\"sk-toggleable__control sk-hidden--visually\" id=\"sk-estimator-id-2\" type=\"checkbox\" checked><label for=\"sk-estimator-id-2\" class=\"sk-toggleable__label sk-toggleable__label-arrow\">NearestNeighbors</label><div class=\"sk-toggleable__content\"><pre>NearestNeighbors(algorithm=&#x27;brute&#x27;, metric=&#x27;cosine&#x27;)</pre></div></div></div></div></div>"
      ],
      "text/plain": [
       "NearestNeighbors(algorithm='brute', metric='cosine')"
      ]
     },
     "execution_count": 66,
     "metadata": {},
     "output_type": "execute_result"
    }
   ],
   "source": [
    "#kNN\n",
    "model_knn = NearestNeighbors(metric='cosine' , algorithm='brute')\n",
    "model_knn.fit(sparse_matrix)"
   ]
  },
  {
   "cell_type": "code",
   "execution_count": 67,
   "metadata": {},
   "outputs": [],
   "source": [
    "#title_to_id is mapping that we created\n",
    "#movie_title is keyword to be serched for\n",
    "def find_matches(title_to_id,movie_title):\n",
    "    movies_ids = np.array(list(title_to_id.values())).astype(int) #creates array \n",
    "    titles = np.array(list(title_to_id.keys()))\n",
    "    ratios=list()\n",
    "    for title, movie_id in title_to_id.items():\n",
    "        ratio=SequenceMatcher(None, movie_title, title, autojunk=False).ratio()\n",
    "        ratios.append(ratio)\n",
    "    titles,ids =titles[np.argsort(ratios)][-10:], movies_ids[np.argsort(ratios)][-10:]  \n",
    "    return list(reversed(list(zip(titles,ids))))"
   ]
  },
  {
   "cell_type": "code",
   "execution_count": 68,
   "metadata": {},
   "outputs": [
    {
     "data": {
      "application/vnd.jupyter.widget-view+json": {
       "model_id": "ff4dab1674d94584934c2f620f5696d0",
       "version_major": 2,
       "version_minor": 0
      },
      "text/plain": [
       "Dropdown(options=(('Watchmen (2009)', 941), ('Matchstick Men (2003)', 788), ('Patch Adams (1998)', 497), ('Bat…"
      ]
     },
     "execution_count": 68,
     "metadata": {},
     "output_type": "execute_result"
    }
   ],
   "source": [
    "title ='watchmen'\n",
    "options=find_matches(title_to_id,title)\n",
    "\n",
    "import ipywidgets as widgets\n",
    "drop =widgets.Dropdown(options=options)\n",
    "drop"
   ]
  },
  {
   "cell_type": "code",
   "execution_count": 34,
   "metadata": {},
   "outputs": [
    {
     "name": "stdout",
     "output_type": "stream",
     "text": [
      " Recommendations For :  Watchmen (2009)\n",
      "1 . Iron Man (2008)\n",
      "2 . Kick-Ass (2010)\n",
      "3 . District 9 (2009)\n",
      "4 . Inception (2010)\n",
      "5 . Source Code (2011)\n",
      "6 . Black Swan (2010)\n",
      "7 . Dark Knight, The (2008)\n",
      "8 . X-Men Origins: Wolverine (2009)\n",
      "9 . Thor (2011)\n",
      "10 . Incredible Hulk, The (2008)\n"
     ]
    }
   ],
   "source": [
    "movies_id =drop.value\n",
    "test=pivot_table.iloc[movies_id, :].values.reshape(1, -1)\n",
    "\n",
    "distances, indices = model_knn.kneighbors(test, n_neighbors=10 + 1)\n",
    "\n",
    "indices=indices.squeeze()[1:]\n",
    "\n",
    "print(' Recommendations For : ' ,id_to_title[movies_id])\n",
    "for i, index in enumerate(indices):\n",
    "    print(i+1, '.', id_to_title[index])"
   ]
  },
  {
   "cell_type": "code",
   "execution_count": null,
   "metadata": {},
   "outputs": [],
   "source": []
  },
  {
   "cell_type": "code",
   "execution_count": null,
   "metadata": {},
   "outputs": [],
   "source": []
  },
  {
   "cell_type": "code",
   "execution_count": 1,
   "metadata": {},
   "outputs": [
    {
     "data": {
      "application/vnd.jupyter.widget-view+json": {
       "model_id": "a6d98be8e9354cc5bb4e2c4a6d72c6ec",
       "version_major": 2,
       "version_minor": 0
      },
      "text/plain": [
       "Dropdown(description='Select a movie:', options=(('Watchmen (2009)', 941), ('Matchstick Men (2003)', 788), ('P…"
      ]
     },
     "metadata": {},
     "output_type": "display_data"
    },
    {
     "name": "stdout",
     "output_type": "stream",
     "text": [
      "Recommendations for: Snatch (2000)\n",
      "1 . Fight Club (1999)\n",
      "2 . American History X (1998)\n",
      "3 . Lock, Stock & Two Smoking Barrels (1998)\n",
      "4 . Big Lebowski, The (1998)\n",
      "5 . Lord of the Rings: The Fellowship of the Ring, The (2001)\n",
      "6 . Lord of the Rings: The Return of the King, The (2003)\n",
      "7 . Seven (a.k.a. Se7en) (1995)\n",
      "8 . Matrix, The (1999)\n",
      "9 . Gladiator (2000)\n",
      "10 . Lord of the Rings: The Two Towers, The (2002)\n",
      "Recommendations for: Batman Returns (1992)\n",
      "1 . Batman & Robin (1997)\n",
      "2 . Batman Forever (1995)\n",
      "3 . Batman (1989)\n",
      "4 . RoboCop (1987)\n",
      "5 . Die Hard 2 (1990)\n",
      "6 . Die Hard (1988)\n",
      "7 . Highlander (1986)\n",
      "8 . Mummy, The (1999)\n",
      "9 . Con Air (1997)\n",
      "10 . Superman (1978)\n"
     ]
    }
   ],
   "source": [
    "import re\n",
    "from difflib import SequenceMatcher\n",
    "import numpy as np \n",
    "import pandas as pd\n",
    "import matplotlib.pyplot as plt\n",
    "from scipy.sparse import csr_matrix\n",
    "from sklearn.neighbors import NearestNeighbors\n",
    "from sklearn.metrics import mean_squared_error\n",
    "import ipywidgets as widgets\n",
    "\n",
    "# Load movie and ratings data\n",
    "movies = pd.read_csv('data/movies.csv')\n",
    "ratings = pd.read_csv('data/ratings.csv')\n",
    "\n",
    "# Preprocessing\n",
    "movies = movies.drop(['genres'], axis='columns')\n",
    "ratings = ratings.drop(['timestamp'], axis='columns')\n",
    "\n",
    "# Filter unpopular movies and inactive users\n",
    "popular_movies_thresh = 25\n",
    "active_users_thresh = 100\n",
    "\n",
    "movies_count = ratings['movieId'].value_counts()\n",
    "popular_movies_indices = movies_count[movies_count >= popular_movies_thresh].index\n",
    "popular_ratings = ratings[ratings['movieId'].isin(popular_movies_indices)]\n",
    "\n",
    "users_count = popular_ratings['userId'].value_counts()\n",
    "active_users_indices = users_count[users_count >= active_users_thresh].index\n",
    "active_users_ratings = popular_ratings[popular_ratings['userId'].isin(active_users_indices)]\n",
    "\n",
    "# Create pivot table and sparse matrix\n",
    "pivot_table = active_users_ratings.pivot(index='movieId', columns='userId', values='rating').fillna(0)\n",
    "sparse_matrix = csr_matrix(pivot_table.values)\n",
    "\n",
    "# Model Training\n",
    "model_knn = NearestNeighbors(metric='cosine', algorithm='brute')\n",
    "model_knn.fit(sparse_matrix)\n",
    "\n",
    "# Function to find movie matches using fuzzy string matching\n",
    "def find_matches(title_to_id, movie_title):\n",
    "    ratios = [SequenceMatcher(None, movie_title, title, autojunk=False).ratio() for title in title_to_id.keys()]\n",
    "    sorted_titles = [title for _, title in sorted(zip(ratios, title_to_id.keys()), reverse=True)]\n",
    "    sorted_ids = [title_to_id[title] for title in sorted_titles]\n",
    "    return list(zip(sorted_titles[:10], sorted_ids[:10]))\n",
    "\n",
    "# Dynamic updating function\n",
    "def update_model(new_ratings):\n",
    "    # Add new ratings to the ratings DataFrame\n",
    "    global ratings\n",
    "    ratings = pd.concat([ratings, new_ratings], ignore_index=True)\n",
    "    \n",
    "    # Filter unpopular movies and inactive users\n",
    "    popular_movies_indices = ratings['movieId'].value_counts()[ratings['movieId'].value_counts() >= popular_movies_thresh].index\n",
    "    popular_ratings = ratings[ratings['movieId'].isin(popular_movies_indices)]\n",
    "    users_count = popular_ratings['userId'].value_counts()\n",
    "    active_users_indices = users_count[users_count >= active_users_thresh].index\n",
    "    active_users_ratings = popular_ratings[popular_ratings['userId'].isin(active_users_indices)]\n",
    "    \n",
    "    # Update pivot table and sparse matrix\n",
    "    pivot_table = active_users_ratings.pivot(index='movieId', columns='userId', values='rating').fillna(0)\n",
    "    global sparse_matrix\n",
    "    sparse_matrix = csr_matrix(pivot_table.values)\n",
    "    \n",
    "    # Retrain the model\n",
    "    model_knn.fit(sparse_matrix)\n",
    "\n",
    "# Function to recommend movies based on user input\n",
    "def recommend_movies(movie_title):\n",
    "    options = find_matches(title_to_id, movie_title)\n",
    "    dropdown = widgets.Dropdown(options=options, description='Select a movie:')\n",
    "    display(dropdown)\n",
    "    \n",
    "    def on_change(change):\n",
    "        if change['type'] == 'change' and change['name'] == 'value':\n",
    "            movie_id = change['new']\n",
    "            test = pivot_table.iloc[movie_id, :].values.reshape(1, -1)\n",
    "            distances, indices = model_knn.kneighbors(test, n_neighbors=10 + 1)\n",
    "            indices = indices.squeeze()[1:]\n",
    "            print('Recommendations for:', id_to_title[movie_id])\n",
    "            for i, index in enumerate(indices):\n",
    "                print(i + 1, '.', id_to_title[index])\n",
    "    \n",
    "    dropdown.observe(on_change)\n",
    "    \n",
    "# Load movie titles and create mappings\n",
    "pivot_table_movies = movies.set_index('movieId').loc[pivot_table.index]['title'].values\n",
    "title_to_id = {movie: i for i, movie in enumerate(pivot_table_movies)}\n",
    "id_to_title = {v: k for k, v in title_to_id.items()}\n",
    "\n",
    "# Example of recommending movies based on user input\n",
    "recommend_movies('watchmen')\n",
    "\n",
    "# Example of dynamic updating with new ratings\n",
    "new_ratings = pd.DataFrame({'userId': [999, 999, 999],\n",
    "                             'movieId': [1, 2, 3],\n",
    "                             'rating': [5, 4, 3]})\n",
    "update_model(new_ratings)\n"
   ]
  },
  {
   "cell_type": "code",
   "execution_count": null,
   "metadata": {},
   "outputs": [],
   "source": []
  }
 ],
 "metadata": {
  "kernelspec": {
   "display_name": "Python 3 (ipykernel)",
   "language": "python",
   "name": "python3"
  },
  "language_info": {
   "codemirror_mode": {
    "name": "ipython",
    "version": 3
   },
   "file_extension": ".py",
   "mimetype": "text/x-python",
   "name": "python",
   "nbconvert_exporter": "python",
   "pygments_lexer": "ipython3",
   "version": "3.11.4"
  }
 },
 "nbformat": 4,
 "nbformat_minor": 2
}
